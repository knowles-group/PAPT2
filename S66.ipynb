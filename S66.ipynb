{
 "cells": [
  {
   "cell_type": "markdown",
   "metadata": {},
   "source": [
    "# Non-covalent interactions benchmark"
   ]
  },
  {
   "cell_type": "code",
   "execution_count": 51,
   "metadata": {
    "ExecuteTime": {
     "end_time": "2023-07-16T19:29:45.574290Z",
     "start_time": "2023-07-16T19:29:45.506886Z"
    }
   },
   "outputs": [],
   "source": [
    "import pandas as pd\n",
    "from benchmark import benchmark, method_constructor, latex_table, violin_plot, unused_project_directories\n",
    "import ipynbname\n",
    "\n",
    "title = ipynbname.name().replace('_', ' ')"
   ]
  },
  {
   "cell_type": "code",
   "execution_count": 40,
   "outputs": [
    {
     "name": "stdout",
     "output_type": "stream",
     "text": [
      "       HF   MP2   MP3   MP4  CCSD  PAPT2  PAPT3  PAPT4\n",
      "1   -5.31 -0.27 -0.22 -0.10 -1.00  -0.54  -0.62  -0.02\n",
      "2   -7.97 -0.07 -0.60  0.03 -1.41  -0.93  -1.02  -0.06\n",
      "3   -9.81  0.14 -0.82  0.22 -1.81  -1.11  -1.23   0.01\n",
      "4   -9.70 -0.67 -0.32 -0.53 -1.73  -0.99  -1.07  -0.16\n",
      "5   -9.36 -0.08 -0.73  0.11 -1.71  -1.12  -1.21   0.02\n",
      "6  -13.93  0.21 -1.18  0.36 -2.57  -1.69  -1.79   0.15\n",
      "8   -6.34 -0.26 -0.31 -0.04 -1.23  -0.68  -0.76   0.05\n",
      "9   -9.10 -0.25 -0.73  0.12 -1.53  -1.10  -1.15   0.12\n",
      "10 -13.76  0.24 -1.12  0.25 -2.23  -1.63  -1.71   0.13\n",
      "12 -11.69  0.44 -1.01  0.27 -2.04  -1.38  -1.50   0.01\n",
      "16  -7.18 -0.24 -0.28 -0.13 -1.28  -0.65  -0.71  -0.02\n",
      "51  -4.27  0.49  0.06  0.09 -0.79  -0.15  -0.16   0.08\n",
      "59  -2.87 -0.24  0.12 -0.05 -0.60  -0.09  -0.15   0.02\n",
      "60  -9.71  0.22 -0.11  0.19 -1.98  -0.55  -0.59   0.22\n"
     ]
    }
   ],
   "source": [
    "bm_counterpoise = benchmark(\n",
    "    'S66',\n",
    "    'GMTKN55_S66',\n",
    "    method_constructor(['HF', 'MP2', 'MP3', 'MP4', 'CCSD', 'PAPT2', 'PAPT3', 'PAPT4', 'CCSD(T)'], counterpoise=True),\n",
    "    ['aug-cc-pVDZ', 'aug-cc-pVTZ'],\n",
    "    max_electrons=50,\n",
    "    parallel=1,\n",
    "    # verbose=True,\n",
    "    reference='CCSD(T)',\n",
    "    # check=True,\n",
    ")\n",
    "print(bm_counterpoise['reaction energy deviations'])"
   ],
   "metadata": {
    "collapsed": false,
    "ExecuteTime": {
     "end_time": "2023-07-16T19:24:21.065537Z",
     "start_time": "2023-07-16T19:23:44.771181Z"
    }
   }
  },
  {
   "cell_type": "code",
   "execution_count": 42,
   "outputs": [
    {
     "name": "stdout",
     "output_type": "stream",
     "text": [
      "size of database = 14\n",
      "run HF aug-cc-pVDZ\n",
      "run HF aug-cc-pVTZ\n",
      "run MP2 aug-cc-pVDZ\n",
      "run MP2 aug-cc-pVTZ\n",
      "run MP3 aug-cc-pVDZ\n",
      "run MP3 aug-cc-pVTZ\n",
      "run MP4 aug-cc-pVDZ\n",
      "run MP4 aug-cc-pVTZ\n",
      "run CCSD aug-cc-pVDZ\n",
      "run CCSD aug-cc-pVTZ\n",
      "run PAPT2 aug-cc-pVDZ\n",
      "run PAPT2 aug-cc-pVTZ\n",
      "run PAPT3 aug-cc-pVDZ\n",
      "run PAPT3 aug-cc-pVTZ\n",
      "run PAPT4 aug-cc-pVDZ\n",
      "run PAPT4 aug-cc-pVTZ\n",
      "run CCSD(T) aug-cc-pVDZ\n",
      "run CCSD(T) aug-cc-pVTZ\n",
      "       HF   MP2   MP3   MP4  CCSD  PAPT2  PAPT3  PAPT4\n",
      "1   -6.44 -0.15 -0.19 -0.08 -0.99  -0.49  -0.55  -0.04\n",
      "2   -9.36  0.09 -0.57  0.04 -1.41  -0.87  -0.95  -0.08\n",
      "3  -11.08  0.34 -0.80  0.22 -1.81  -1.06  -1.16  -0.02\n",
      "4  -11.35 -0.42 -0.29 -0.51 -1.76  -0.92  -0.99  -0.19\n",
      "5  -10.85  0.12 -0.70  0.11 -1.71  -1.05  -1.13  -0.02\n",
      "6  -15.30  0.48 -1.14  0.34 -2.55  -1.59  -1.68   0.11\n",
      "8   -7.50 -0.10 -0.27 -0.03 -1.22  -0.62  -0.68   0.02\n",
      "9  -10.21 -0.11 -0.72  0.12 -1.53  -1.07  -1.10   0.11\n",
      "10 -14.76  0.47 -1.12  0.24 -2.22  -1.60  -1.65   0.12\n",
      "12 -12.96  0.65 -0.98  0.27 -2.02  -1.32  -1.42  -0.03\n",
      "16  -8.65 -0.06 -0.27 -0.11 -1.30  -0.60  -0.65  -0.04\n",
      "51  -4.43  0.74  0.14  0.06 -0.73  -0.05  -0.06   0.06\n",
      "59  -3.57 -0.11  0.14 -0.04 -0.60  -0.06  -0.10   0.01\n",
      "60 -10.64  0.67  0.04  0.16 -1.93  -0.39  -0.43   0.18\n"
     ]
    }
   ],
   "source": [
    "bm_raw = benchmark(\n",
    "    'S66',\n",
    "    'GMTKN55_S66',\n",
    "    method_constructor(['HF', 'MP2', 'MP3', 'MP4', 'CCSD', 'PAPT2', 'PAPT3', 'PAPT4', 'CCSD(T)'], counterpoise=False),\n",
    "    ['aug-cc-pVDZ', 'aug-cc-pVTZ'],\n",
    "    # ['aug-cc-pVDZ'],\n",
    "    max_electrons=50,\n",
    "    verbose=True,\n",
    "    # check=True,\n",
    "    reference='CCSD(T)',\n",
    ")\n",
    "print(bm_raw['reaction energy deviations'])"
   ],
   "metadata": {
    "collapsed": false,
    "ExecuteTime": {
     "end_time": "2023-07-16T19:25:02.334841Z",
     "start_time": "2023-07-16T19:24:21.068971Z"
    }
   }
  },
  {
   "cell_type": "code",
   "execution_count": 43,
   "outputs": [
    {
     "name": "stdout",
     "output_type": "stream",
     "text": [
      "       HF   MP2   MP3   MP4  CCSD  PAPT2  PAPT3  PAPT4\n",
      "1   -5.31 -0.27 -0.22 -0.10 -1.00  -0.54  -0.62  -0.02\n",
      "2   -7.97 -0.07 -0.60  0.03 -1.41  -0.93  -1.02  -0.06\n",
      "3   -9.81  0.14 -0.82  0.22 -1.81  -1.11  -1.23   0.01\n",
      "4   -9.70 -0.67 -0.32 -0.53 -1.73  -0.99  -1.07  -0.16\n",
      "5   -9.36 -0.08 -0.73  0.11 -1.71  -1.12  -1.21   0.02\n",
      "6  -13.93  0.21 -1.18  0.36 -2.57  -1.69  -1.79   0.15\n",
      "8   -6.34 -0.26 -0.31 -0.04 -1.23  -0.68  -0.76   0.05\n",
      "9   -9.10 -0.25 -0.73  0.12 -1.53  -1.10  -1.15   0.12\n",
      "10 -13.76  0.24 -1.12  0.25 -2.23  -1.63  -1.71   0.13\n",
      "12 -11.69  0.44 -1.01  0.27 -2.04  -1.38  -1.50   0.01\n",
      "16  -7.18 -0.24 -0.28 -0.13 -1.28  -0.65  -0.71  -0.02\n",
      "51  -4.27  0.49  0.06  0.09 -0.79  -0.15  -0.16   0.08\n",
      "59  -2.87 -0.24  0.12 -0.05 -0.60  -0.09  -0.15   0.02\n",
      "60  -9.71  0.22 -0.11  0.19 -1.98  -0.55  -0.59   0.22\n",
      "       HF   MP2   MP3   MP4  CCSD  PAPT2  PAPT3  PAPT4\n",
      "1   -6.44 -0.15 -0.19 -0.08 -0.99  -0.49  -0.55  -0.04\n",
      "2   -9.36  0.09 -0.57  0.04 -1.41  -0.87  -0.95  -0.08\n",
      "3  -11.08  0.34 -0.80  0.22 -1.81  -1.06  -1.16  -0.02\n",
      "4  -11.35 -0.42 -0.29 -0.51 -1.76  -0.92  -0.99  -0.19\n",
      "5  -10.85  0.12 -0.70  0.11 -1.71  -1.05  -1.13  -0.02\n",
      "6  -15.30  0.48 -1.14  0.34 -2.55  -1.59  -1.68   0.11\n",
      "8   -7.50 -0.10 -0.27 -0.03 -1.22  -0.62  -0.68   0.02\n",
      "9  -10.21 -0.11 -0.72  0.12 -1.53  -1.07  -1.10   0.11\n",
      "10 -14.76  0.47 -1.12  0.24 -2.22  -1.60  -1.65   0.12\n",
      "12 -12.96  0.65 -0.98  0.27 -2.02  -1.32  -1.42  -0.03\n",
      "16  -8.65 -0.06 -0.27 -0.11 -1.30  -0.60  -0.65  -0.04\n",
      "51  -4.43  0.74  0.14  0.06 -0.73  -0.05  -0.06   0.06\n",
      "59  -3.57 -0.11  0.14 -0.04 -0.60  -0.06  -0.10   0.01\n",
      "60 -10.64  0.67  0.04  0.16 -1.93  -0.39  -0.43   0.18\n"
     ]
    }
   ],
   "source": [
    "\n",
    "print(bm_counterpoise['reaction energy deviations'])\n",
    "print(bm_raw['reaction energy deviations'])"
   ],
   "metadata": {
    "collapsed": false,
    "ExecuteTime": {
     "end_time": "2023-07-16T19:25:02.339897Z",
     "start_time": "2023-07-16T19:25:02.337353Z"
    }
   }
  },
  {
   "cell_type": "code",
   "execution_count": 44,
   "outputs": [
    {
     "name": "stdout",
     "output_type": "stream",
     "text": [
      "          HF   MP2   MP3  MP4  CCSD  PAPT2  PAPT3  PAPT4\n",
      "MAD     8.64  0.27  0.54 0.18  1.57   0.90   0.98   0.08\n",
      "MAXD   13.93  0.67  1.18 0.53  2.57   1.69   1.79   0.22\n",
      "RMSD    9.20  0.31  0.66 0.22  1.65   1.02   1.09   0.10\n",
      "MSD    -8.64 -0.03 -0.52 0.06 -1.57  -0.90  -0.98   0.04\n",
      "STDEVD  3.27  0.32  0.43 0.22  0.56   0.49   0.51   0.10\n",
      "          HF  MP2   MP3  MP4  CCSD  PAPT2  PAPT3  PAPT4\n",
      "MAD     9.79 0.32  0.53 0.17  1.56   0.83   0.90   0.07\n",
      "MAXD   15.30 0.74  1.14 0.51  2.55   1.60   1.68   0.19\n",
      "RMSD   10.35 0.40  0.64 0.21  1.65   0.96   1.02   0.09\n",
      "MSD    -9.79 0.19 -0.48 0.06 -1.56  -0.83  -0.90   0.01\n",
      "STDEVD  3.47 0.37  0.44 0.21  0.56   0.50   0.51   0.10\n"
     ]
    }
   ],
   "source": [
    "\n",
    "print(bm_counterpoise['reaction statistics'])\n",
    "print(bm_raw['reaction statistics'])"
   ],
   "metadata": {
    "collapsed": false,
    "ExecuteTime": {
     "end_time": "2023-07-16T19:25:02.371093Z",
     "start_time": "2023-07-16T19:25:02.339362Z"
    }
   }
  },
  {
   "cell_type": "code",
   "execution_count": 45,
   "outputs": [
    {
     "name": "stdout",
     "output_type": "stream",
     "text": [
      "      HF   MP2   MP3   MP4  CCSD  PAPT2  PAPT3  PAPT4  CCSD(T)\n",
      "1  15.20 20.23 20.28 20.40 19.50  19.96  19.88  20.48    20.50\n",
      "2  15.39 23.29 22.76 23.39 21.95  22.43  22.34  23.30    23.36\n",
      "3  19.26 29.21 28.25 29.29 27.26  27.95  27.83  29.08    29.07\n",
      "4  24.08 33.11 33.47 33.25 32.05  32.79  32.71  33.62    33.78\n",
      "5  14.62 23.89 23.24 24.09 22.26  22.85  22.77  23.99    23.97\n",
      "6  17.73 31.87 30.48 32.02 29.09  29.97  29.87  31.82    31.66\n",
      "8  14.47 20.55 20.50 20.78 19.58  20.13  20.05  20.86    20.81\n",
      "9   3.72 12.57 12.09 12.94 11.29  11.71  11.67  12.94    12.82\n",
      "10  3.77 17.76 16.40 17.78 15.30  15.90  15.81  17.66    17.53\n",
      "12 18.89 31.02 29.58 30.86 28.55  29.21  29.09  30.59    30.59\n",
      "16 14.21 21.16 21.11 21.26 20.12  20.75  20.68  21.37    21.40\n",
      "51  2.15  6.91  6.49  6.51  5.64   6.28   6.27   6.50     6.43\n",
      "59  9.19 11.82 12.18 12.01 11.46  11.97  11.91  12.08    12.06\n",
      "60 10.92 20.84 20.52 20.81 18.64  20.08  20.04  20.84    20.62\n",
      "      HF   MP2   MP3   MP4  CCSD  PAPT2  PAPT3  PAPT4  CCSD(T)\n",
      "1  15.50 21.79 21.75 21.86 20.95  21.45  21.39  21.90    21.94\n",
      "2  15.77 25.22 24.56 25.17 23.72  24.25  24.18  25.04    25.13\n",
      "3  19.60 31.02 29.88 30.90 28.87  29.62  29.52  30.66    30.68\n",
      "4  24.52 35.45 35.58 35.36 34.12  34.95  34.88  35.69    35.88\n",
      "5  15.08 26.05 25.23 26.04 24.22  24.88  24.80  25.91    25.93\n",
      "6  18.17 33.95 32.33 33.81 30.93  31.88  31.79  33.58    33.47\n",
      "8  14.84 22.24 22.06 22.31 21.12  21.72  21.66  22.36    22.34\n",
      "9   4.08 14.18 13.57 14.41 12.76  13.22  13.19  14.40    14.29\n",
      "10  4.03 19.25 17.67 19.03 16.57  17.19  17.14  18.91    18.79\n",
      "12 19.26 32.87 31.23 32.48 30.19  30.90  30.80  32.19    32.22\n",
      "16 14.68 23.27 23.06 23.22 22.03  22.73  22.68  23.29    23.33\n",
      "51  2.50  7.67  7.07  6.99  6.20   6.88   6.87   6.99     6.93\n",
      "59  9.61 13.08 13.32 13.15 12.58  13.13  13.08  13.19    13.18\n",
      "60 11.42 22.73 22.09 22.21 20.12  21.67  21.63  22.23    22.06\n"
     ]
    }
   ],
   "source": [
    "\n",
    "print(bm_counterpoise['reaction energies'])\n",
    "print(bm_raw['reaction energies'])"
   ],
   "metadata": {
    "collapsed": false,
    "ExecuteTime": {
     "end_time": "2023-07-16T19:25:02.390208Z",
     "start_time": "2023-07-16T19:25:02.352914Z"
    }
   }
  },
  {
   "cell_type": "code",
   "execution_count": 46,
   "outputs": [
    {
     "data": {
      "text/plain": "<Figure size 600x600 with 1 Axes>",
      "image/png": "[encoded data removed]"
     },
     "execution_count": 46,
     "metadata": {},
     "output_type": "execute_result"
    }
   ],
   "source": [
    "fig=violin_plot(bm_counterpoise)\n",
    "fig"
   ],
   "metadata": {
    "collapsed": false,
    "ExecuteTime": {
     "end_time": "2023-07-16T19:25:02.498104Z",
     "start_time": "2023-07-16T19:25:02.383540Z"
    }
   }
  },
  {
   "cell_type": "code",
   "execution_count": 47,
   "outputs": [
    {
     "data": {
      "text/plain": "<Figure size 600x600 with 1 Axes>",
      "image/png": "[encoded data removed]"
     },
     "execution_count": 47,
     "metadata": {},
     "output_type": "execute_result"
    }
   ],
   "source": [
    "violin_plot(bm_raw)"
   ],
   "metadata": {
    "collapsed": false,
    "ExecuteTime": {
     "end_time": "2023-07-16T19:25:02.595506Z",
     "start_time": "2023-07-16T19:25:02.524321Z"
    }
   }
  },
  {
   "cell_type": "code",
   "execution_count": 48,
   "outputs": [],
   "source": [
    "violin_plot(bm_raw).savefig('S66_raw.pdf')\n",
    "violin_plot(bm_counterpoise).savefig('S66_counterpoise.pdf')"
   ],
   "metadata": {
    "collapsed": false,
    "ExecuteTime": {
     "end_time": "2023-07-16T19:25:02.728133Z",
     "start_time": "2023-07-16T19:25:02.601511Z"
    }
   }
  },
  {
   "cell_type": "code",
   "execution_count": 49,
   "outputs": [
    {
     "data": {
      "text/plain": "[]"
     },
     "execution_count": 49,
     "metadata": {},
     "output_type": "execute_result"
    }
   ],
   "source": [
    "unused_project_directories([bm_raw,bm_counterpoise])"
   ],
   "metadata": {
    "collapsed": false,
    "ExecuteTime": {
     "end_time": "2023-07-16T19:25:02.729089Z",
     "start_time": "2023-07-16T19:25:02.715302Z"
    }
   }
  },
  {
   "cell_type": "code",
   "execution_count": 50,
   "outputs": [],
   "source": [
    "import shutil\n",
    "for d in unused_project_directories([bm_raw,bm_counterpoise]):\n",
    "    shutil.rmtree(d)"
   ],
   "metadata": {
    "collapsed": false,
    "ExecuteTime": {
     "end_time": "2023-07-16T19:25:02.729293Z",
     "start_time": "2023-07-16T19:25:02.728313Z"
    }
   }
  },
  {
   "cell_type": "code",
   "execution_count": 52,
   "outputs": [],
   "source": [
    "\n",
    "for k in ['reaction energy deviations', 'reaction energies', 'reaction statistics']:\n",
    "    lt = latex_table(bm_counterpoise[k], title + ': ' + k, 'CCSD(T)')\n",
    "    # print(lt)\n",
    "    with open((title + ' ' + k + '.tex').replace(' ', '_'), 'w') as f:\n",
    "        f.write(lt)"
   ],
   "metadata": {
    "collapsed": false,
    "ExecuteTime": {
     "end_time": "2023-07-16T19:30:05.007823Z",
     "start_time": "2023-07-16T19:30:04.978764Z"
    }
   }
  },
  {
   "cell_type": "code",
   "execution_count": null,
   "outputs": [],
   "source": [],
   "metadata": {
    "collapsed": false
   }
  }
 ],
 "metadata": {
  "kernelspec": {
   "name": "conda-env-pymolpro-build-py",
   "language": "python",
   "display_name": "Python [conda env:pymolpro-build]"
  },
  "language_info": {
   "codemirror_mode": {
    "name": "ipython",
    "version": 3
   },
   "file_extension": ".py",
   "mimetype": "text/x-python",
   "name": "python",
   "nbconvert_exporter": "python",
   "pygments_lexer": "ipython3",
   "version": "3.10.6"
  },
  "toc": {
   "base_numbering": 1,
   "nav_menu": {},
   "number_sections": true,
   "sideBar": true,
   "skip_h1_title": false,
   "title_cell": "Table of Contents",
   "title_sidebar": "Contents",
   "toc_cell": false,
   "toc_position": {},
   "toc_section_display": true,
   "toc_window_display": false
  },
  "varInspector": {
   "cols": {
    "lenName": 16,
    "lenType": 16,
    "lenVar": 40
   },
   "kernels_config": {
    "python": {
     "delete_cmd_postfix": "",
     "delete_cmd_prefix": "del ",
     "library": "var_list.py",
     "varRefreshCmd": "print(var_dic_list())"
    },
    "r": {
     "delete_cmd_postfix": ") ",
     "delete_cmd_prefix": "rm(",
     "library": "var_list.r",
     "varRefreshCmd": "cat(var_dic_list()) "
    }
   },
   "types_to_exclude": [
    "module",
    "function",
    "builtin_function_or_method",
    "instance",
    "_Feature"
   ],
   "window_display": false
  }
 },
 "nbformat": 4,
 "nbformat_minor": 4
}
