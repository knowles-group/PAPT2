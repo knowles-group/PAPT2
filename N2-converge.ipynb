{
 "cells": [
  {
   "cell_type": "code",
   "execution_count": 13,
   "metadata": {
    "collapsed": true,
    "ExecuteTime": {
     "end_time": "2023-07-13T07:21:17.574976Z",
     "start_time": "2023-07-13T07:21:17.306965Z"
    }
   },
   "outputs": [],
   "source": [
    "import pymolpro\n",
    "p=pymolpro.Project('N2-converge')\n",
    "p.write_input(\"\"\"\n",
    "geometry={N;N,N,r}\n",
    "r=2.0 angstrom\n",
    "basis,vdz\n",
    "!basis,vdz(p)\n",
    "\n",
    "rhf\n",
    "{fci;thresh,1e-15;maxit,25;moller}\n",
    "efci=energy\n",
    "mp_errs=energy_mp-energy\n",
    "demp(1)=0\n",
    "do j=1,#energy_mp-1\n",
    "demp(j+1)=energy_mp(j+1)-energy_mp(j)\n",
    "enddo\n",
    "cc_norm_max=1e99\n",
    "papt\n",
    "{fci;thresh,1e-15;maxit,25;moller}\n",
    "papt_errs=energy_mp-energy\n",
    "depapt(1)=0\n",
    "do j=1,#energy_mp-1\n",
    "depapt(j+1)=energy_mp(j+1)-energy_mp(j)\n",
    "order(j)=j\n",
    "enddo\n",
    "show mp_errs,papt_errs\n",
    "show demp,depapt\n",
    "{table,order,demp,depapt,mp_errs,papt_errs;plot}\n",
    "{table,order,demp,depapt,mp_errs,papt_errs;range,3,#demp;plot}\n",
    "{table,order,log10(abs(demp)),log10(abs(depapt)),log10(abs(mp_errs)),log10(abs(papt_errs));range,2,#demp;plot}\n",
    "!{table,order,log10(abs(mp_errs)),log10(abs(papt_errs)),log10(abs(deccsd)),log10(abs(deccsdt));heading,Order,RSPT,PAPT,CCSD,CCSD(T);range,2,#demp;save,ch2.py}\n",
    "{table,order,log10(abs(mp_errs)),log10(abs(papt_errs));heading,Order,RSPT,PAPT;range,2,#demp;save,N2-converge.py}\n",
    "\"\"\")\n",
    "p.run(wait=False)"
   ]
  },
  {
   "cell_type": "code",
   "execution_count": null,
   "outputs": [],
   "source": [
    "p.wait()\n",
    "print(p.out)"
   ],
   "metadata": {
    "collapsed": false,
    "is_executing": true,
    "ExecuteTime": {
     "start_time": "2023-07-13T07:21:20.266528Z"
    }
   }
  },
  {
   "cell_type": "code",
   "execution_count": null,
   "outputs": [],
   "source": [],
   "metadata": {
    "collapsed": false
   }
  }
 ],
 "metadata": {
  "kernelspec": {
   "name": "conda-env-pymolpro-build-py",
   "language": "python",
   "display_name": "Python [conda env:pymolpro-build]"
  },
  "language_info": {
   "codemirror_mode": {
    "name": "ipython",
    "version": 2
   },
   "file_extension": ".py",
   "mimetype": "text/x-python",
   "name": "python",
   "nbconvert_exporter": "python",
   "pygments_lexer": "ipython2",
   "version": "2.7.6"
  }
 },
 "nbformat": 4,
 "nbformat_minor": 0
}
